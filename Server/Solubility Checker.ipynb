{
 "cells": [
  {
   "cell_type": "markdown",
   "id": "3b7b7b7f",
   "metadata": {},
   "source": [
    "# Load DataSet"
   ]
  },
  {
   "cell_type": "code",
   "execution_count": 2,
   "id": "dbb87d28",
   "metadata": {},
   "outputs": [],
   "source": [
    "import pandas as pd"
   ]
  },
  {
   "cell_type": "code",
   "execution_count": 8,
   "id": "b148a20d",
   "metadata": {},
   "outputs": [
    {
     "name": "stdout",
     "output_type": "stream",
     "text": [
      "      MolLogP    MolWt  NumRotatableBonds  AromaticProportion   logS\n",
      "0     2.59540  167.850                0.0            0.000000 -2.180\n",
      "1     2.37650  133.405                0.0            0.000000 -2.000\n",
      "2     2.59380  167.850                1.0            0.000000 -1.740\n",
      "3     2.02890  133.405                1.0            0.000000 -1.480\n",
      "4     2.91890  187.375                1.0            0.000000 -3.040\n",
      "...       ...      ...                ...                 ...    ...\n",
      "1139  1.98820  287.343                8.0            0.000000  1.144\n",
      "1140  3.42130  286.114                2.0            0.333333 -4.925\n",
      "1141  3.60960  308.333                4.0            0.695652 -3.893\n",
      "1142  2.56214  354.815                3.0            0.521739 -3.790\n",
      "1143  2.02164  179.219                1.0            0.461538 -2.581\n",
      "\n",
      "[1144 rows x 5 columns]\n"
     ]
    }
   ],
   "source": [
    "df = pd.read_csv('https://raw.githubusercontent.com/dataprofessor/data/master/delaney_solubility_with_descriptors.csv')\n",
    "print(df)"
   ]
  },
  {
   "cell_type": "code",
   "execution_count": 58,
   "id": "ea767dfb",
   "metadata": {},
   "outputs": [
    {
     "data": {
      "text/plain": [
       "MolLogP               float64\n",
       "MolWt                 float64\n",
       "NumRotatableBonds     float64\n",
       "AromaticProportion    float64\n",
       "logS                  float64\n",
       "dtype: object"
      ]
     },
     "execution_count": 58,
     "metadata": {},
     "output_type": "execute_result"
    }
   ],
   "source": [
    "df.dtypes"
   ]
  },
  {
   "cell_type": "markdown",
   "id": "6ae3439a",
   "metadata": {},
   "source": [
    "# Data seperation as a X and Y"
   ]
  },
  {
   "cell_type": "code",
   "execution_count": 6,
   "id": "dcbebbe5",
   "metadata": {},
   "outputs": [],
   "source": [
    "y=df['logS']"
   ]
  },
  {
   "cell_type": "code",
   "execution_count": 7,
   "id": "e752b1d3",
   "metadata": {},
   "outputs": [
    {
     "name": "stdout",
     "output_type": "stream",
     "text": [
      "0      -2.180\n",
      "1      -2.000\n",
      "2      -1.740\n",
      "3      -1.480\n",
      "4      -3.040\n",
      "        ...  \n",
      "1139    1.144\n",
      "1140   -4.925\n",
      "1141   -3.893\n",
      "1142   -3.790\n",
      "1143   -2.581\n",
      "Name: logS, Length: 1144, dtype: float64\n"
     ]
    }
   ],
   "source": [
    "print(y)"
   ]
  },
  {
   "cell_type": "code",
   "execution_count": 10,
   "id": "dab25929",
   "metadata": {},
   "outputs": [
    {
     "name": "stdout",
     "output_type": "stream",
     "text": [
      "      MolLogP    MolWt  NumRotatableBonds  AromaticProportion\n",
      "0     2.59540  167.850                0.0            0.000000\n",
      "1     2.37650  133.405                0.0            0.000000\n",
      "2     2.59380  167.850                1.0            0.000000\n",
      "3     2.02890  133.405                1.0            0.000000\n",
      "4     2.91890  187.375                1.0            0.000000\n",
      "...       ...      ...                ...                 ...\n",
      "1139  1.98820  287.343                8.0            0.000000\n",
      "1140  3.42130  286.114                2.0            0.333333\n",
      "1141  3.60960  308.333                4.0            0.695652\n",
      "1142  2.56214  354.815                3.0            0.521739\n",
      "1143  2.02164  179.219                1.0            0.461538\n",
      "\n",
      "[1144 rows x 4 columns]\n"
     ]
    }
   ],
   "source": [
    "x=df.drop('logS', axis=1)\n",
    "print(x)"
   ]
  },
  {
   "cell_type": "markdown",
   "id": "bf229309",
   "metadata": {},
   "source": [
    "# Seperating Data into Training and Testing Sets"
   ]
  },
  {
   "cell_type": "code",
   "execution_count": 14,
   "id": "f4182be4",
   "metadata": {},
   "outputs": [],
   "source": [
    "from sklearn.model_selection import train_test_split"
   ]
  },
  {
   "cell_type": "code",
   "execution_count": 18,
   "id": "05535617",
   "metadata": {},
   "outputs": [
    {
     "name": "stdout",
     "output_type": "stream",
     "text": [
      "      MolLogP    MolWt  NumRotatableBonds  AromaticProportion\n",
      "822   2.91000  172.268                7.0            0.000000\n",
      "118   7.27400  360.882                1.0            0.666667\n",
      "347   1.94040  145.161                0.0            0.909091\n",
      "1123  1.98640  119.378                0.0            0.000000\n",
      "924   1.70062  108.140                0.0            0.750000\n",
      "...       ...      ...                ...                 ...\n",
      "1114  1.76210  478.513                4.0            0.000000\n",
      "427   6.32820  276.338                0.0            1.000000\n",
      "711   0.04430  218.205                5.0            0.000000\n",
      "4     2.91890  187.375                1.0            0.000000\n",
      "948   3.56010  318.328                2.0            0.750000\n",
      "\n",
      "[229 rows x 4 columns]\n",
      "822    -3.380\n",
      "118    -8.010\n",
      "347    -2.160\n",
      "1123   -1.170\n",
      "924    -0.730\n",
      "        ...  \n",
      "1114   -4.130\n",
      "427    -9.018\n",
      "711    -0.600\n",
      "4      -3.040\n",
      "948    -2.900\n",
      "Name: logS, Length: 229, dtype: float64\n"
     ]
    }
   ],
   "source": [
    "x_train,x_test,y_train,y_test=train_test_split(x,y,test_size=0.2,random_state=100)\n",
    "print(x_test)\n",
    "print(y_test)"
   ]
  },
  {
   "cell_type": "markdown",
   "id": "b81bb919",
   "metadata": {},
   "source": [
    "# Building Model using Linear Regression"
   ]
  },
  {
   "cell_type": "code",
   "execution_count": 22,
   "id": "6d693d67",
   "metadata": {
    "scrolled": true
   },
   "outputs": [
    {
     "data": {
      "text/html": [
       "<style>#sk-container-id-1 {color: black;background-color: white;}#sk-container-id-1 pre{padding: 0;}#sk-container-id-1 div.sk-toggleable {background-color: white;}#sk-container-id-1 label.sk-toggleable__label {cursor: pointer;display: block;width: 100%;margin-bottom: 0;padding: 0.3em;box-sizing: border-box;text-align: center;}#sk-container-id-1 label.sk-toggleable__label-arrow:before {content: \"▸\";float: left;margin-right: 0.25em;color: #696969;}#sk-container-id-1 label.sk-toggleable__label-arrow:hover:before {color: black;}#sk-container-id-1 div.sk-estimator:hover label.sk-toggleable__label-arrow:before {color: black;}#sk-container-id-1 div.sk-toggleable__content {max-height: 0;max-width: 0;overflow: hidden;text-align: left;background-color: #f0f8ff;}#sk-container-id-1 div.sk-toggleable__content pre {margin: 0.2em;color: black;border-radius: 0.25em;background-color: #f0f8ff;}#sk-container-id-1 input.sk-toggleable__control:checked~div.sk-toggleable__content {max-height: 200px;max-width: 100%;overflow: auto;}#sk-container-id-1 input.sk-toggleable__control:checked~label.sk-toggleable__label-arrow:before {content: \"▾\";}#sk-container-id-1 div.sk-estimator input.sk-toggleable__control:checked~label.sk-toggleable__label {background-color: #d4ebff;}#sk-container-id-1 div.sk-label input.sk-toggleable__control:checked~label.sk-toggleable__label {background-color: #d4ebff;}#sk-container-id-1 input.sk-hidden--visually {border: 0;clip: rect(1px 1px 1px 1px);clip: rect(1px, 1px, 1px, 1px);height: 1px;margin: -1px;overflow: hidden;padding: 0;position: absolute;width: 1px;}#sk-container-id-1 div.sk-estimator {font-family: monospace;background-color: #f0f8ff;border: 1px dotted black;border-radius: 0.25em;box-sizing: border-box;margin-bottom: 0.5em;}#sk-container-id-1 div.sk-estimator:hover {background-color: #d4ebff;}#sk-container-id-1 div.sk-parallel-item::after {content: \"\";width: 100%;border-bottom: 1px solid gray;flex-grow: 1;}#sk-container-id-1 div.sk-label:hover label.sk-toggleable__label {background-color: #d4ebff;}#sk-container-id-1 div.sk-serial::before {content: \"\";position: absolute;border-left: 1px solid gray;box-sizing: border-box;top: 0;bottom: 0;left: 50%;z-index: 0;}#sk-container-id-1 div.sk-serial {display: flex;flex-direction: column;align-items: center;background-color: white;padding-right: 0.2em;padding-left: 0.2em;position: relative;}#sk-container-id-1 div.sk-item {position: relative;z-index: 1;}#sk-container-id-1 div.sk-parallel {display: flex;align-items: stretch;justify-content: center;background-color: white;position: relative;}#sk-container-id-1 div.sk-item::before, #sk-container-id-1 div.sk-parallel-item::before {content: \"\";position: absolute;border-left: 1px solid gray;box-sizing: border-box;top: 0;bottom: 0;left: 50%;z-index: -1;}#sk-container-id-1 div.sk-parallel-item {display: flex;flex-direction: column;z-index: 1;position: relative;background-color: white;}#sk-container-id-1 div.sk-parallel-item:first-child::after {align-self: flex-end;width: 50%;}#sk-container-id-1 div.sk-parallel-item:last-child::after {align-self: flex-start;width: 50%;}#sk-container-id-1 div.sk-parallel-item:only-child::after {width: 0;}#sk-container-id-1 div.sk-dashed-wrapped {border: 1px dashed gray;margin: 0 0.4em 0.5em 0.4em;box-sizing: border-box;padding-bottom: 0.4em;background-color: white;}#sk-container-id-1 div.sk-label label {font-family: monospace;font-weight: bold;display: inline-block;line-height: 1.2em;}#sk-container-id-1 div.sk-label-container {text-align: center;}#sk-container-id-1 div.sk-container {/* jupyter's `normalize.less` sets `[hidden] { display: none; }` but bootstrap.min.css set `[hidden] { display: none !important; }` so we also need the `!important` here to be able to override the default hidden behavior on the sphinx rendered scikit-learn.org. See: https://github.com/scikit-learn/scikit-learn/issues/21755 */display: inline-block !important;position: relative;}#sk-container-id-1 div.sk-text-repr-fallback {display: none;}</style><div id=\"sk-container-id-1\" class=\"sk-top-container\"><div class=\"sk-text-repr-fallback\"><pre>LinearRegression()</pre><b>In a Jupyter environment, please rerun this cell to show the HTML representation or trust the notebook. <br />On GitHub, the HTML representation is unable to render, please try loading this page with nbviewer.org.</b></div><div class=\"sk-container\" hidden><div class=\"sk-item\"><div class=\"sk-estimator sk-toggleable\"><input class=\"sk-toggleable__control sk-hidden--visually\" id=\"sk-estimator-id-1\" type=\"checkbox\" checked><label for=\"sk-estimator-id-1\" class=\"sk-toggleable__label sk-toggleable__label-arrow\">LinearRegression</label><div class=\"sk-toggleable__content\"><pre>LinearRegression()</pre></div></div></div></div></div>"
      ],
      "text/plain": [
       "LinearRegression()"
      ]
     },
     "execution_count": 22,
     "metadata": {},
     "output_type": "execute_result"
    }
   ],
   "source": [
    "from sklearn.linear_model import LinearRegression\n",
    "lr=LinearRegression();\n",
    "lr.fit(x_train,y_train)"
   ]
  },
  {
   "cell_type": "markdown",
   "id": "96fb8ea5",
   "metadata": {},
   "source": [
    "# here model is build now we apply this model to make predictions"
   ]
  },
  {
   "cell_type": "markdown",
   "id": "2b19100a",
   "metadata": {},
   "source": [
    "# # Applying model to make prediction"
   ]
  },
  {
   "cell_type": "code",
   "execution_count": 23,
   "id": "61127c3b",
   "metadata": {},
   "outputs": [],
   "source": [
    "y_lr_train_pred=lr.predict(x_train)\n",
    "y_lr_test_pred=lr.predict(x_test)"
   ]
  },
  {
   "cell_type": "markdown",
   "id": "cdaf867e",
   "metadata": {},
   "source": [
    "# # comparing predicted and original values \n"
   ]
  },
  {
   "cell_type": "markdown",
   "id": "64d0358b",
   "metadata": {},
   "source": [
    "# ## Evaluate Model performance"
   ]
  },
  {
   "cell_type": "code",
   "execution_count": 27,
   "id": "5751a738",
   "metadata": {},
   "outputs": [],
   "source": [
    "from sklearn.metrics import mean_squared_error, r2_score\n",
    "lr_train_mse=mean_squared_error(y_train,y_lr_train_pred)\n",
    "lr_train_r2=r2_score(y_train, y_lr_train_pred)\n",
    "\n",
    "lr_test_mse=mean_squared_error(y_test,y_lr_test_pred)\n",
    "lr_test_r2=r2_score(y_test,y_lr_test_pred)"
   ]
  },
  {
   "cell_type": "code",
   "execution_count": 32,
   "id": "7770b6e8",
   "metadata": {},
   "outputs": [
    {
     "data": {
      "text/plain": [
       "1.0075362951093687"
      ]
     },
     "execution_count": 32,
     "metadata": {},
     "output_type": "execute_result"
    }
   ],
   "source": [
    "lr_train_mse"
   ]
  },
  {
   "cell_type": "code",
   "execution_count": 33,
   "id": "cdd390eb",
   "metadata": {},
   "outputs": [
    {
     "data": {
      "text/plain": [
       "0.7645051774663391"
      ]
     },
     "execution_count": 33,
     "metadata": {},
     "output_type": "execute_result"
    }
   ],
   "source": [
    "lr_train_r2"
   ]
  },
  {
   "cell_type": "code",
   "execution_count": 30,
   "id": "773886fe",
   "metadata": {},
   "outputs": [
    {
     "data": {
      "text/plain": [
       "1.0206953660861033"
      ]
     },
     "execution_count": 30,
     "metadata": {},
     "output_type": "execute_result"
    }
   ],
   "source": [
    "lr_test_mse"
   ]
  },
  {
   "cell_type": "code",
   "execution_count": 31,
   "id": "ddf613f6",
   "metadata": {},
   "outputs": [
    {
     "data": {
      "text/plain": [
       "0.7891616188563282"
      ]
     },
     "execution_count": 31,
     "metadata": {},
     "output_type": "execute_result"
    }
   ],
   "source": [
    "lr_test_r2"
   ]
  },
  {
   "cell_type": "code",
   "execution_count": 35,
   "id": "f83fd0a3",
   "metadata": {},
   "outputs": [
    {
     "data": {
      "text/html": [
       "<div>\n",
       "<style scoped>\n",
       "    .dataframe tbody tr th:only-of-type {\n",
       "        vertical-align: middle;\n",
       "    }\n",
       "\n",
       "    .dataframe tbody tr th {\n",
       "        vertical-align: top;\n",
       "    }\n",
       "\n",
       "    .dataframe thead th {\n",
       "        text-align: right;\n",
       "    }\n",
       "</style>\n",
       "<table border=\"1\" class=\"dataframe\">\n",
       "  <thead>\n",
       "    <tr style=\"text-align: right;\">\n",
       "      <th></th>\n",
       "      <th>0</th>\n",
       "      <th>1</th>\n",
       "      <th>2</th>\n",
       "      <th>3</th>\n",
       "      <th>4</th>\n",
       "    </tr>\n",
       "  </thead>\n",
       "  <tbody>\n",
       "    <tr>\n",
       "      <th>0</th>\n",
       "      <td>LinearRegression</td>\n",
       "      <td>1.007536</td>\n",
       "      <td>0.764505</td>\n",
       "      <td>1.020695</td>\n",
       "      <td>0.789162</td>\n",
       "    </tr>\n",
       "  </tbody>\n",
       "</table>\n",
       "</div>"
      ],
      "text/plain": [
       "                  0         1         2         3         4\n",
       "0  LinearRegression  1.007536  0.764505  1.020695  0.789162"
      ]
     },
     "execution_count": 35,
     "metadata": {},
     "output_type": "execute_result"
    }
   ],
   "source": [
    "lr_results=pd.DataFrame(['LinearRegression',lr_train_mse,lr_train_r2,lr_test_mse,lr_test_r2]).transpose()\n",
    "lr_results"
   ]
  },
  {
   "cell_type": "markdown",
   "id": "0b09280f",
   "metadata": {},
   "source": [
    "# Data Visualization on Predicted model"
   ]
  },
  {
   "cell_type": "code",
   "execution_count": 47,
   "id": "375c63ee",
   "metadata": {
    "scrolled": true
   },
   "outputs": [
    {
     "data": {
      "text/plain": [
       "Text(0.5, 0, 'Experimented LogS')"
      ]
     },
     "execution_count": 47,
     "metadata": {},
     "output_type": "execute_result"
    },
    {
     "data": {
      "image/png": "[encoded data removed]",
      "text/plain": [
       "<Figure size 500x500 with 1 Axes>"
      ]
     },
     "metadata": {},
     "output_type": "display_data"
    }
   ],
   "source": [
    "import matplotlib.pyplot as plt\n",
    "plt.figure(figsize=(5,5))\n",
    "plt.scatter(x=y_train, y=y_lr_train_pred,alpha=0.5,c='#7CAE00')\n",
    "plt.plot()\n",
    "plt.ylabel('Predict LogS')\n",
    "plt.xlabel('Experimented LogS')"
   ]
  },
  {
   "cell_type": "code",
   "execution_count": 48,
   "id": "72fce89f",
   "metadata": {},
   "outputs": [],
   "source": [
    "import pickle"
   ]
  },
  {
   "cell_type": "code",
   "execution_count": 49,
   "id": "5b815110",
   "metadata": {},
   "outputs": [],
   "source": [
    "pickle.dump(lr,open('model.pkl','wb'))"
   ]
  },
  {
   "cell_type": "code",
   "execution_count": 50,
   "id": "67b5102e",
   "metadata": {},
   "outputs": [
    {
     "name": "stdout",
     "output_type": "stream",
     "text": [
      "Name: scikit-learn\n",
      "Version: 1.2.1\n",
      "Summary: A set of python modules for machine learning and data mining\n",
      "Home-page: http://scikit-learn.org\n",
      "Author: None\n",
      "Author-email: None\n",
      "License: new BSD\n",
      "Location: c:\\users\\advance\\appdata\\roaming\\python\\python39\\site-packages\n",
      "Requires: threadpoolctl, scipy, joblib, numpy\n",
      "Required-by: \n",
      "Note: you may need to restart the kernel to use updated packages.\n"
     ]
    }
   ],
   "source": [
    "pip show scikit-learn"
   ]
  },
  {
   "cell_type": "code",
   "execution_count": null,
   "id": "3ceb072e",
   "metadata": {},
   "outputs": [],
   "source": []
  }
 ],
 "metadata": {
  "kernelspec": {
   "display_name": "Python 3 (ipykernel)",
   "language": "python",
   "name": "python3"
  },
  "language_info": {
   "codemirror_mode": {
    "name": "ipython",
    "version": 3
   },
   "file_extension": ".py",
   "mimetype": "text/x-python",
   "name": "python",
   "nbconvert_exporter": "python",
   "pygments_lexer": "ipython3",
   "version": "3.9.0"
  }
 },
 "nbformat": 4,
 "nbformat_minor": 5
}
